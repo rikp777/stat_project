{
 "cells": [
  {
   "cell_type": "code",
   "execution_count": 1,
   "metadata": {
    "collapsed": true
   },
   "outputs": [],
   "source": [
    "# Import libraries\n",
    "import pandas as pd\n",
    "from sklearn.feature_extraction.text import CountVectorizer\n",
    "from sklearn.model_selection import train_test_split\n",
    "from sklearn.naive_bayes import MultinomialNB\n",
    "from sklearn.metrics import recall_score, precision_score, f1_score\n",
    "import pickle\n",
    "\n",
    "from_pickle = True"
   ]
  },
  {
   "cell_type": "markdown",
   "source": [
    "# Dataset prep"
   ],
   "metadata": {
    "collapsed": false,
    "pycharm": {
     "name": "#%% md\n"
    }
   }
  },
  {
   "cell_type": "code",
   "execution_count": 2,
   "outputs": [],
   "source": [
    "if not from_pickle :\n",
    "    # Load Gibberish dataset\n",
    "    columns_gibberish = [\"Response\", \"Label\"]\n",
    "    path_to_import_gibberish = \"./dataset/Gibberish.csv\"\n",
    "    df_gibberish = pd.read_csv(path_to_import_gibberish, usecols=columns_gibberish, sep=',', encoding=\"ISO-8859-1\")\n",
    "    df_gibberish_count = len(df_gibberish)\n",
    "    df_gibberish.tail()\n",
    "    df_gibberish.to_pickle('./dataset/gibberish.pkl')\n",
    "else:\n",
    "    df_gibberish = pd.read_pickle('./dataset/gibberish.pkl')"
   ],
   "metadata": {
    "collapsed": false,
    "pycharm": {
     "name": "#%%\n"
    }
   }
  },
  {
   "cell_type": "code",
   "execution_count": 3,
   "outputs": [],
   "source": [
    "if not from_pickle :\n",
    "    # Load Amazon reviews dataset\n",
    "    path_to_import_amazon = \"./dataset/Amazon.csv\"\n",
    "    df_amazon = pd.read_csv(path_to_import_amazon, encoding=\"ISO-8859-1\")\n",
    "    df_amazon = df_amazon.sample(n = 3783)\n",
    "    df_amazon.tail()\n",
    "    df_amazon.to_pickle('./dataset/amazon.pkl')\n",
    "else :\n",
    "    df_amazon = pd.read_pickle('./dataset/amazon.pkl')"
   ],
   "metadata": {
    "collapsed": false,
    "pycharm": {
     "name": "#%%\n"
    }
   }
  },
  {
   "cell_type": "code",
   "execution_count": 4,
   "outputs": [
    {
     "data": {
      "text/plain": "                                                 Response  Label\n77096   Loved It!: Everytime I see this movie it touch...      0\n182753  Undercooked, Overrated: Aside from \"North Amer...      0\n540146  Dissappointed: Unable to view the movie wound ...      0\n993767  Cool new techie toy!: If you travel a lot then...      0\n492951  Works well: These work great & get the job don...      0",
      "text/html": "<div>\n<style scoped>\n    .dataframe tbody tr th:only-of-type {\n        vertical-align: middle;\n    }\n\n    .dataframe tbody tr th {\n        vertical-align: top;\n    }\n\n    .dataframe thead th {\n        text-align: right;\n    }\n</style>\n<table border=\"1\" class=\"dataframe\">\n  <thead>\n    <tr style=\"text-align: right;\">\n      <th></th>\n      <th>Response</th>\n      <th>Label</th>\n    </tr>\n  </thead>\n  <tbody>\n    <tr>\n      <th>77096</th>\n      <td>Loved It!: Everytime I see this movie it touch...</td>\n      <td>0</td>\n    </tr>\n    <tr>\n      <th>182753</th>\n      <td>Undercooked, Overrated: Aside from \"North Amer...</td>\n      <td>0</td>\n    </tr>\n    <tr>\n      <th>540146</th>\n      <td>Dissappointed: Unable to view the movie wound ...</td>\n      <td>0</td>\n    </tr>\n    <tr>\n      <th>993767</th>\n      <td>Cool new techie toy!: If you travel a lot then...</td>\n      <td>0</td>\n    </tr>\n    <tr>\n      <th>492951</th>\n      <td>Works well: These work great &amp; get the job don...</td>\n      <td>0</td>\n    </tr>\n  </tbody>\n</table>\n</div>"
     },
     "execution_count": 4,
     "metadata": {},
     "output_type": "execute_result"
    }
   ],
   "source": [
    "# Name Columns in Amazon dataset\n",
    "df_amazon.drop(df_amazon.columns[0], inplace=True, axis=1)\n",
    "df_amazon.columns = [\"Response\"]\n",
    "df_amazon[\"Label\"] = 0\n",
    "df_amazon.tail()"
   ],
   "metadata": {
    "collapsed": false,
    "pycharm": {
     "name": "#%%\n"
    }
   }
  },
  {
   "cell_type": "code",
   "execution_count": 5,
   "outputs": [],
   "source": [
    "# Remove title from text\n",
    "def remove_intro(x):\n",
    "    if x.find(\":\") < 0:\n",
    "        return x\n",
    "    else:\n",
    "        return x[x.find(\":\") + 1:len(x)].strip()\n",
    "\n",
    "# Remove Title from amazon reviews\n",
    "df_amazon[\"Response\"] = df_amazon[\"Response\"].apply(remove_intro)\n"
   ],
   "metadata": {
    "collapsed": false,
    "pycharm": {
     "name": "#%%\n"
    }
   }
  },
  {
   "cell_type": "code",
   "execution_count": 6,
   "outputs": [
    {
     "data": {
      "text/plain": "(3783, 19144)"
     },
     "execution_count": 6,
     "metadata": {},
     "output_type": "execute_result"
    }
   ],
   "source": [
    "# Create feature list\n",
    "vectorizer = CountVectorizer(stop_words='english')\n",
    "all_features = vectorizer.fit_transform(df_amazon.Response)\n",
    "all_features.shape\n",
    "# vectorizer.vocabulary_\n"
   ],
   "metadata": {
    "collapsed": false,
    "pycharm": {
     "name": "#%%\n"
    }
   }
  },
  {
   "cell_type": "code",
   "execution_count": 7,
   "outputs": [
    {
     "data": {
      "text/plain": "                                               Response  Label\n2821  i must say this book initiated feelings i had ...      0\n485   I just got the v60i and really love the phone....      0\n2935  Time To Say GoodBye was my first experience an...      0\n2472  I really like this bible, and am glad that I w...      0\n3523  Bought this last spring due to the great revie...      0",
      "text/html": "<div>\n<style scoped>\n    .dataframe tbody tr th:only-of-type {\n        vertical-align: middle;\n    }\n\n    .dataframe tbody tr th {\n        vertical-align: top;\n    }\n\n    .dataframe thead th {\n        text-align: right;\n    }\n</style>\n<table border=\"1\" class=\"dataframe\">\n  <thead>\n    <tr style=\"text-align: right;\">\n      <th></th>\n      <th>Response</th>\n      <th>Label</th>\n    </tr>\n  </thead>\n  <tbody>\n    <tr>\n      <th>2821</th>\n      <td>i must say this book initiated feelings i had ...</td>\n      <td>0</td>\n    </tr>\n    <tr>\n      <th>485</th>\n      <td>I just got the v60i and really love the phone....</td>\n      <td>0</td>\n    </tr>\n    <tr>\n      <th>2935</th>\n      <td>Time To Say GoodBye was my first experience an...</td>\n      <td>0</td>\n    </tr>\n    <tr>\n      <th>2472</th>\n      <td>I really like this bible, and am glad that I w...</td>\n      <td>0</td>\n    </tr>\n    <tr>\n      <th>3523</th>\n      <td>Bought this last spring due to the great revie...</td>\n      <td>0</td>\n    </tr>\n  </tbody>\n</table>\n</div>"
     },
     "execution_count": 7,
     "metadata": {},
     "output_type": "execute_result"
    }
   ],
   "source": [
    "# Merge both datasets\n",
    "df_merged = pd.concat([df_amazon, df_gibberish], ignore_index=True, sort=False)\n",
    "df_merged = df_merged.sample(n=all_features.shape[0])\n",
    "df_merged.tail()"
   ],
   "metadata": {
    "collapsed": false,
    "pycharm": {
     "name": "#%%\n"
    }
   }
  },
  {
   "cell_type": "markdown",
   "source": [
    "# Dataset analyse"
   ],
   "metadata": {
    "collapsed": false,
    "pycharm": {
     "name": "#%% md\n"
    }
   }
  },
  {
   "cell_type": "code",
   "execution_count": 8,
   "outputs": [
    {
     "data": {
      "text/plain": "MultinomialNB()"
     },
     "execution_count": 8,
     "metadata": {},
     "output_type": "execute_result"
    }
   ],
   "source": [
    "# Train dataset\n",
    "x_train, x_test, y_train, y_test, = train_test_split(all_features, df_merged.Label, test_size=0.20)\n",
    "classifier = MultinomialNB()  # Create Model\n",
    "classifier.fit(x_train, y_train)  # Train Model"
   ],
   "metadata": {
    "collapsed": false,
    "pycharm": {
     "name": "#%%\n"
    }
   }
  },
  {
   "cell_type": "code",
   "execution_count": 9,
   "outputs": [
    {
     "name": "stdout",
     "output_type": "stream",
     "text": [
      "377 correctly predicted\n",
      "380 incorrectly predicted\n",
      "The testing accuracy of the model is 0.5%\n"
     ]
    }
   ],
   "source": [
    "# Calculate accuracy\n",
    "\n",
    "# My own calculation\n",
    "nr_correct = (y_test == classifier.predict(x_test)).sum()\n",
    "print(f'{nr_correct} correctly predicted')\n",
    "nr_incorrect = y_test.size - nr_correct\n",
    "print(f'{nr_incorrect} incorrectly predicted')\n",
    "\n",
    "fraction_wrong = nr_incorrect / (nr_correct + nr_incorrect)\n",
    "print(f'The testing accuracy of the model is {1-fraction_wrong:.2}%')"
   ],
   "metadata": {
    "collapsed": false,
    "pycharm": {
     "name": "#%%\n"
    }
   }
  },
  {
   "cell_type": "code",
   "execution_count": 10,
   "outputs": [
    {
     "data": {
      "text/plain": "0.49801849405548215"
     },
     "execution_count": 10,
     "metadata": {},
     "output_type": "execute_result"
    }
   ],
   "source": [
    "# Calculation by sklearn\n",
    "classifier.score(x_test, y_test)"
   ],
   "metadata": {
    "collapsed": false,
    "pycharm": {
     "name": "#%%\n"
    }
   }
  },
  {
   "cell_type": "code",
   "execution_count": 11,
   "outputs": [
    {
     "data": {
      "text/plain": "0.4910941475826972"
     },
     "execution_count": 11,
     "metadata": {},
     "output_type": "execute_result"
    }
   ],
   "source": [
    "recall_score(y_test, classifier.predict(x_test))"
   ],
   "metadata": {
    "collapsed": false,
    "pycharm": {
     "name": "#%%\n"
    }
   }
  },
  {
   "cell_type": "code",
   "execution_count": 12,
   "outputs": [
    {
     "data": {
      "text/plain": "0.517426273458445"
     },
     "execution_count": 12,
     "metadata": {},
     "output_type": "execute_result"
    }
   ],
   "source": [
    "precision_score(y_test, classifier.predict(x_test))"
   ],
   "metadata": {
    "collapsed": false,
    "pycharm": {
     "name": "#%%\n"
    }
   }
  },
  {
   "cell_type": "code",
   "execution_count": 13,
   "outputs": [
    {
     "data": {
      "text/plain": "0.5039164490861618"
     },
     "execution_count": 13,
     "metadata": {},
     "output_type": "execute_result"
    }
   ],
   "source": [
    "f1_score(y_test, classifier.predict(x_test))\n"
   ],
   "metadata": {
    "collapsed": false,
    "pycharm": {
     "name": "#%%\n"
    }
   }
  },
  {
   "cell_type": "code",
   "execution_count": 14,
   "outputs": [],
   "source": [
    "test_data = [\n",
    "    '23sadfkla2145nla',\n",
    "    'hello my name is rik, this is just normal text nothing wrong with it. Lets see what the naive bayes will show',\n",
    "    'the product was absolutely amazing it has everything i need',\n",
    "    '1',\n",
    "    '2',\n",
    "    'We like having a strange assortment of reading material in our main floor bathroom. This one fit right in the collection.',\n",
    "    'ddddddddddddddddddddddd',\n",
    "    'ndjty yuke6u7yk rtrwtj kmt hjw yjwetyjwety',\n",
    "    'sdbfdgn',\n",
    "    ''\n",
    "]"
   ],
   "metadata": {
    "collapsed": false,
    "pycharm": {
     "name": "#%%\n"
    }
   }
  },
  {
   "cell_type": "code",
   "execution_count": 15,
   "outputs": [
    {
     "data": {
      "text/plain": "array([1, 1, 1, 1, 1, 0, 1, 1, 1, 1], dtype=int64)"
     },
     "execution_count": 15,
     "metadata": {},
     "output_type": "execute_result"
    }
   ],
   "source": [
    "doc_term_matrix = vectorizer.transform(test_data)\n",
    "classifier.predict(doc_term_matrix)"
   ],
   "metadata": {
    "collapsed": false,
    "pycharm": {
     "name": "#%%\n"
    }
   }
  }
 ],
 "metadata": {
  "kernelspec": {
   "display_name": "Python 3",
   "language": "python",
   "name": "python3"
  },
  "language_info": {
   "codemirror_mode": {
    "name": "ipython",
    "version": 2
   },
   "file_extension": ".py",
   "mimetype": "text/x-python",
   "name": "python",
   "nbconvert_exporter": "python",
   "pygments_lexer": "ipython2",
   "version": "2.7.6"
  }
 },
 "nbformat": 4,
 "nbformat_minor": 0
}