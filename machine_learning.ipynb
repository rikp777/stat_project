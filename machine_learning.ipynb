{
 "cells": [
  {
   "cell_type": "code",
   "execution_count": 389,
   "metadata": {
    "collapsed": true
   },
   "outputs": [],
   "source": [
    "# Import libraries\n",
    "import pandas as pd\n",
    "from sklearn.feature_extraction.text import CountVectorizer\n",
    "from sklearn.model_selection import train_test_split\n",
    "from sklearn.naive_bayes import MultinomialNB\n",
    "from sklearn.metrics import recall_score, precision_score, f1_score\n",
    "import pickle\n",
    "\n",
    "from_pickle = True"
   ]
  },
  {
   "cell_type": "markdown",
   "source": [
    "# Dataset prep"
   ],
   "metadata": {
    "collapsed": false,
    "pycharm": {
     "name": "#%% md\n"
    }
   }
  },
  {
   "cell_type": "code",
   "execution_count": 390,
   "outputs": [],
   "source": [
    "if not from_pickle :\n",
    "    # Load Gibberish dataset\n",
    "    columns_gibberish = [\"Response\", \"Label\"]\n",
    "    path_to_import_gibberish = \"./dataset/Gibberish.csv\"\n",
    "    df_gibberish = pd.read_csv(path_to_import_gibberish, usecols=columns_gibberish, sep=',', encoding=\"ISO-8859-1\")\n",
    "    df_gibberish_count = len(df_gibberish)\n",
    "    df_gibberish.tail()"
   ],
   "metadata": {
    "collapsed": false,
    "pycharm": {
     "name": "#%%\n"
    }
   }
  },
  {
   "cell_type": "code",
   "execution_count": 391,
   "outputs": [],
   "source": [
    "if not from_pickle :\n",
    "    # Load Amazon reviews dataset\n",
    "    path_to_import_amazon = \"./dataset/Amazon.csv\"\n",
    "    df_amazon = pd.read_csv(path_to_import_amazon, encoding=\"ISO-8859-1\")\n",
    "    df_amazon = df_amazon.sample(n = df_gibberish_count)\n",
    "    df_amazon.tail()"
   ],
   "metadata": {
    "collapsed": false,
    "pycharm": {
     "name": "#%%\n"
    }
   }
  },
  {
   "cell_type": "code",
   "execution_count": 392,
   "outputs": [],
   "source": [
    "if not from_pickle :\n",
    "    # Name Columns in Amazon dataset\n",
    "    df_amazon.drop(df_amazon.columns[0], inplace=True, axis=1)\n",
    "    df_amazon.columns = [\"Response\"]\n",
    "    df_amazon[\"Label\"] = 0\n",
    "    df_amazon.tail()"
   ],
   "metadata": {
    "collapsed": false,
    "pycharm": {
     "name": "#%%\n"
    }
   }
  },
  {
   "cell_type": "code",
   "execution_count": 393,
   "outputs": [],
   "source": [
    "if not from_pickle :\n",
    "    # Remove title from text\n",
    "    def remove_intro(x):\n",
    "        if x.find(\":\") < 0:\n",
    "            return x\n",
    "        else:\n",
    "            return x[x.find(\":\") + 1:len(x)].strip()\n",
    "\n",
    "    # Remove Title from amazon reviews\n",
    "    df_amazon[\"Response\"] = df_amazon[\"Response\"].apply(remove_intro)\n"
   ],
   "metadata": {
    "collapsed": false,
    "pycharm": {
     "name": "#%%\n"
    }
   }
  },
  {
   "cell_type": "code",
   "execution_count": 394,
   "outputs": [],
   "source": [
    "if not from_pickle :\n",
    "    # Create feature list\n",
    "    vectorizer = CountVectorizer(stop_words='english')\n",
    "    all_features = vectorizer.fit_transform(df_amazon.Response)\n",
    "    all_features.shape\n",
    "    # vectorizer.vocabulary_\n"
   ],
   "metadata": {
    "collapsed": false,
    "pycharm": {
     "name": "#%%\n"
    }
   }
  },
  {
   "cell_type": "code",
   "execution_count": 395,
   "outputs": [
    {
     "data": {
      "text/plain": "                                               Response  Label\n396   It doesn't work. It softens skin and that is a...      0\n1907  I have never seen such a beautiful amalgamatio...      0\n3187  This show was way over rated by Critics and I'...      0\n486   This was a great movie to watch with my 14 yea...      0\n4353  kjuhyfvguilo jo;ikl jnmiol hnoil uhjyiukj hyui...      1",
      "text/html": "<div>\n<style scoped>\n    .dataframe tbody tr th:only-of-type {\n        vertical-align: middle;\n    }\n\n    .dataframe tbody tr th {\n        vertical-align: top;\n    }\n\n    .dataframe thead th {\n        text-align: right;\n    }\n</style>\n<table border=\"1\" class=\"dataframe\">\n  <thead>\n    <tr style=\"text-align: right;\">\n      <th></th>\n      <th>Response</th>\n      <th>Label</th>\n    </tr>\n  </thead>\n  <tbody>\n    <tr>\n      <th>396</th>\n      <td>It doesn't work. It softens skin and that is a...</td>\n      <td>0</td>\n    </tr>\n    <tr>\n      <th>1907</th>\n      <td>I have never seen such a beautiful amalgamatio...</td>\n      <td>0</td>\n    </tr>\n    <tr>\n      <th>3187</th>\n      <td>This show was way over rated by Critics and I'...</td>\n      <td>0</td>\n    </tr>\n    <tr>\n      <th>486</th>\n      <td>This was a great movie to watch with my 14 yea...</td>\n      <td>0</td>\n    </tr>\n    <tr>\n      <th>4353</th>\n      <td>kjuhyfvguilo jo;ikl jnmiol hnoil uhjyiukj hyui...</td>\n      <td>1</td>\n    </tr>\n  </tbody>\n</table>\n</div>"
     },
     "execution_count": 395,
     "metadata": {},
     "output_type": "execute_result"
    }
   ],
   "source": [
    "# Merge both datasets\n",
    "if not from_pickle :\n",
    "    df_merged = pd.read_pickle('./dataset/preparated_data.pkl')\n",
    "else:\n",
    "    df_merged = pd.concat([df_amazon, df_gibberish], ignore_index=True, sort=False)\n",
    "    df_merged.to_pickle(\"./dataset/preparated_data.pkl\",protocol=pickle.HIGHEST_PROTOCOL)\n",
    "\n",
    "df_merged = df_merged.sample(n=all_features.shape[0])\n",
    "df_merged.tail()"
   ],
   "metadata": {
    "collapsed": false,
    "pycharm": {
     "name": "#%%\n"
    }
   }
  },
  {
   "cell_type": "markdown",
   "source": [
    "# Dataset analyse"
   ],
   "metadata": {
    "collapsed": false,
    "pycharm": {
     "name": "#%% md\n"
    }
   }
  },
  {
   "cell_type": "code",
   "execution_count": 396,
   "outputs": [
    {
     "data": {
      "text/plain": "MultinomialNB()"
     },
     "execution_count": 396,
     "metadata": {},
     "output_type": "execute_result"
    }
   ],
   "source": [
    "# Train dataset\n",
    "x_train, x_test, y_train, y_test, = train_test_split(all_features, df_merged.Label, test_size=0.20)\n",
    "classifier = MultinomialNB()  # Create Model\n",
    "classifier.fit(x_train, y_train)  # Train Model"
   ],
   "metadata": {
    "collapsed": false,
    "pycharm": {
     "name": "#%%\n"
    }
   }
  },
  {
   "cell_type": "code",
   "execution_count": 397,
   "outputs": [
    {
     "name": "stdout",
     "output_type": "stream",
     "text": [
      "386 correctly predicted\n",
      "371 incorrectly predicted\n",
      "The testing accuracy of the model is 0.51%\n"
     ]
    }
   ],
   "source": [
    "# Calculate accuracy\n",
    "\n",
    "# My own calculation\n",
    "nr_correct = (y_test == classifier.predict(x_test)).sum()\n",
    "print(f'{nr_correct} correctly predicted')\n",
    "nr_incorrect = y_test.size - nr_correct\n",
    "print(f'{nr_incorrect} incorrectly predicted')\n",
    "\n",
    "fraction_wrong = nr_incorrect / (nr_correct + nr_incorrect)\n",
    "print(f'The testing accuracy of the model is {1-fraction_wrong:.2}%')"
   ],
   "metadata": {
    "collapsed": false,
    "pycharm": {
     "name": "#%%\n"
    }
   }
  },
  {
   "cell_type": "code",
   "execution_count": 398,
   "outputs": [
    {
     "data": {
      "text/plain": "0.5099075297225891"
     },
     "execution_count": 398,
     "metadata": {},
     "output_type": "execute_result"
    }
   ],
   "source": [
    "# Calculation by sklearn\n",
    "classifier.score(x_test, y_test)"
   ],
   "metadata": {
    "collapsed": false,
    "pycharm": {
     "name": "#%%\n"
    }
   }
  },
  {
   "cell_type": "code",
   "execution_count": 399,
   "outputs": [
    {
     "data": {
      "text/plain": "0.5331632653061225"
     },
     "execution_count": 399,
     "metadata": {},
     "output_type": "execute_result"
    }
   ],
   "source": [
    "recall_score(y_test, classifier.predict(x_test))"
   ],
   "metadata": {
    "collapsed": false,
    "pycharm": {
     "name": "#%%\n"
    }
   }
  },
  {
   "cell_type": "code",
   "execution_count": 400,
   "outputs": [
    {
     "data": {
      "text/plain": "0.5264483627204031"
     },
     "execution_count": 400,
     "metadata": {},
     "output_type": "execute_result"
    }
   ],
   "source": [
    "precision_score(y_test, classifier.predict(x_test))"
   ],
   "metadata": {
    "collapsed": false,
    "pycharm": {
     "name": "#%%\n"
    }
   }
  },
  {
   "cell_type": "code",
   "execution_count": 401,
   "outputs": [
    {
     "data": {
      "text/plain": "0.5297845373891001"
     },
     "execution_count": 401,
     "metadata": {},
     "output_type": "execute_result"
    }
   ],
   "source": [
    "f1_score(y_test, classifier.predict(x_test))\n"
   ],
   "metadata": {
    "collapsed": false,
    "pycharm": {
     "name": "#%%\n"
    }
   }
  },
  {
   "cell_type": "code",
   "execution_count": 402,
   "outputs": [],
   "source": [
    "test_data = [\n",
    "    '23sadfkla2145nla',\n",
    "    'hello my name is rik, this is just normal text nothing wrong with it. Lets see what the naive bayes will show',\n",
    "    'the product was absolutely amazing it has everything i need',\n",
    "    '1',\n",
    "    '2',\n",
    "    'We like having a strange assortment of reading material in our main floor bathroom. This one fit right in the collection.',\n",
    "    'ddddddddddddddddddddddd',\n",
    "    'ndjty yuke6u7yk rtrwtj kmt hjw yjwetyjwety',\n",
    "    'sdbfdgn',\n",
    "    ''\n",
    "]"
   ],
   "metadata": {
    "collapsed": false,
    "pycharm": {
     "name": "#%%\n"
    }
   }
  },
  {
   "cell_type": "code",
   "execution_count": 403,
   "outputs": [
    {
     "data": {
      "text/plain": "array([0, 0, 1, 0, 0, 1, 0, 0, 0, 0], dtype=int64)"
     },
     "execution_count": 403,
     "metadata": {},
     "output_type": "execute_result"
    }
   ],
   "source": [
    "doc_term_matrix = vectorizer.transform(test_data)\n",
    "classifier.predict(doc_term_matrix)"
   ],
   "metadata": {
    "collapsed": false,
    "pycharm": {
     "name": "#%%\n"
    }
   }
  }
 ],
 "metadata": {
  "kernelspec": {
   "display_name": "Python 3",
   "language": "python",
   "name": "python3"
  },
  "language_info": {
   "codemirror_mode": {
    "name": "ipython",
    "version": 2
   },
   "file_extension": ".py",
   "mimetype": "text/x-python",
   "name": "python",
   "nbconvert_exporter": "python",
   "pygments_lexer": "ipython2",
   "version": "2.7.6"
  }
 },
 "nbformat": 4,
 "nbformat_minor": 0
}