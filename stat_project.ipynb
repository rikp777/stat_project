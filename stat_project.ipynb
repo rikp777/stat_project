{
 "cells": [
  {
   "cell_type": "markdown",
   "metadata": {
    "collapsed": true,
    "pycharm": {
     "name": "#%% md\n"
    }
   },
   "source": [
    "# Inleiding\n",
    "\n",
    "Hedendaags de dag heeft iedereen wel eens last gehad van malware,\n",
    "maar hoe komt deze malware nu eigenlijk op een desbetreffende pc.\n",
    "In meest van deze gevallen komt dit door een “drive by download” attack.\n",
    "Wanneer een slachtoffer een betreffende site bezoek wordt op de achtergrond een installatie uitgevoerd zonder dat de gebruiker hier zich van bewust is.\n",
    "Tijdens dit onderzoek ga ik kijken of er een correlatie te vinden is tussen malware en een gibberish URL en of hierbij de hoeveelheid code die wordt ingeladen van invloed kan zijn.\n",
    "Uit dit onderzoek hoop ik een correlatie te vinden tussen deze domeinen.\n",
    "Ook wordt in dit onderzoek aangekaart welke Supervised machine learning algoritmes zijn toegepast om tot een gewenst resultaat te komen.\n",
    "Hierbij wordt uitgelegd waarom een bepaald algoritme een voorkeur kan hebben op een bepaalde analyse.\n",
    "Tijdens dit onderzoek maak ik gebruik van de dataset SINGH, AMIT KUMAR (2020), “Dataset of Malicious and Benign Webpages” ;\n",
    "De dataset bevat geëxtraheerde attributen van websites die kunnen worden gebruikt voor het classificeren van webpagina’s als kwaadaardig of goedaardig.\n",
    "De dataset bevat ook ruwe pagina-inhoud,\n",
    "waaronder JavaScript-code, die kan worden gebruikt als ongestructureerde gegevens in machine learning of voor het extraheren van verdere attributen(SINGH, 2020).\n",
    "Dit onderzoek heeft als doeleinde gebruikers te waarschuwen voor links die een bepaalde structuur hanteren.\n",
    "De onderzoekvraag luid dan ook als volgt: ”Is er een correlatie tussen “drive by download malware” en gibberish URL’s en/of de hoeveelheid code die de desbetreffende webpagina inlaad”.\n",
    "Tijdens dit (correlationeel) onderzoek ga ik kijken of ik een correlatie kan aantonen tussen ”drive by download”malware, ”gibberish”URL-webadres en de hoeveelheid code ook wel code-volume genoemd"
   ]
  },
  {
   "cell_type": "markdown",
   "source": [
    "# Context\n",
    "Op de dag van vandaag neemt de kans steeds groter toe dat men wel eens met malware te maken heeft gehad en in het bijzonder het ”drive by download” type.\n",
    "Een drive by download maakt gebruik van kwetsbaar heden in de browser die wordt gebruikt door een slachtoffer.\n",
    "”Drive by download” website worden maar voor een doel online gezet het infecteren van zoveel mogelijk computers die hun web URL bezoeken.\n",
    "Er zijn drie mogelijkheden om met dit type malware in aanraking te komen.\n",
    "Manier een het wel kennende fenomeen fishing waarbij een slachtoffer een mail krijg waarbij hij vervolgens wordt aangespoort om op een redirectknop te klikken waarna het slachtoffer vervolgens wordt doorgeleid naar de kwaadaardige website en wordt geïnfecteerd.\n",
    "Mogelijkheid twee is dat de gebruiker via nep reclame wordt misleid om een desbetreffende site te bezoeken meestal zijn deze sites overgenomen of gehackt en worden deze reclame site zonder dat de eigenaar het weet misbruikt voor kwaadaardige doeleinden.\n",
    "Meestal zien al deze sites er onschuldig uit.\n",
    "Manier drie misschien ontvang een desbetreffend persoon een link in een e-mail, een sms of een bericht op sociale media waarin staat dat hij of zij iets interessants op een site moet bekijken.\n",
    "Wanneer men de pagina opent, terwijl men geniet van het artikel of de cartoon, installeert de download zich op de computer (McAfee, 2012).\n",
    "Is er een correlatie tussen een malware infectie en een kwaadaardige site code-volume.\n",
    "Hierbij bedoelen we hoe veel code laat de website in.\n",
    "We weten wat een ”drive by download ̈ ıs bij definitie.\n",
    "Hierbij kunnen we concluderen dat een dit malware type voor veel onbewuste schade kan zorgen.\n",
    "In dit onderzoek wordt niet uitgelegd hoe een ”Drive by download” te werk gaat op de achtergrond en het mechanisme van dit malware type.\n",
    "De globale hypothese luid als volgt: met dit onderzoek hopen we een correlatie te vinden tussen de gedefinieerde labels."
   ],
   "metadata": {
    "collapsed": false
   }
  },
  {
   "cell_type": "markdown",
   "source": [
    "#### Gibbarish URL maakt de kans op malware aanzienlijk\n",
    "H0 - Er is geen correlatie tussen een specifiek URL opbouw en een kwaadaardig label.\n",
    "\n",
    "$$𝐻_0:{gibbarish url} \\neq kwaadaardig$$\n",
    "\n",
    "H1 - er is een correlatie tussen een specifieke URL opbouwe en een kwaadaardig label.\n",
    "\n",
    "$$𝐻_1:{gibbarish url} = kwaadaardig$$\n",
    "\n",
    "\n",
    "#### Javascript volume maakt de kans op malware aanzienlijk\n",
    "H0 - Er is geen correlatie tussen javascript volume en een kwaadaardige label.\n",
    "\n",
    "$$𝐻_0:{javascript volume} \\neq kwaadaardig$$\n",
    "\n",
    "H1 - Er is een correlatie tussen javascript volume en een kwaadaardige label.\n",
    "\n",
    "$$𝐻_1:{javascript volume} = kwaadaardig$$\n"
   ],
   "metadata": {
    "collapsed": false
   }
  },
  {
   "cell_type": "markdown",
   "source": [
    "# Hypothese testen\n",
    "Om de hypothese te testen die hierboven zijn omschreven gaan we een onze dataset prepareren voor analyse.\n",
    "Dit doen we door de dataset in te lezen en de benodigde labels uit de dataset te halen\n",
    "Vervolgens splitsen we de data op in twee groepen.\n",
    "Een groep met kwaadaardige web links en een groep met goedaardige web links."
   ],
   "metadata": {
    "collapsed": false
   }
  },
  {
   "cell_type": "code",
   "execution_count": 21,
   "outputs": [],
   "source": [
    "# Import libraries\n",
    "import statistics\n",
    "import pandas as pd\n",
    "import matplotlib.pyplot as plt\n",
    "import numpy as np"
   ],
   "metadata": {
    "collapsed": false,
    "pycharm": {
     "name": "#%%\n"
    }
   }
  },
  {
   "cell_type": "code",
   "execution_count": 22,
   "outputs": [
    {
     "name": "stdout",
     "output_type": "stream",
     "text": [
      "Distribution dataset label (good, bad)\n",
      "Total label bad: 2.23%\n",
      "Total label good: 97.77%\n"
     ]
    },
    {
     "data": {
      "text/plain": "<Figure size 432x288 with 1 Axes>",
      "image/png": "[encoded data removed]"
     },
     "metadata": {},
     "output_type": "display_data"
    }
   ],
   "source": [
    "# Sample size\n",
    "data_volume = 10\n",
    "get_sample_volume = False\n",
    "\n",
    "# Read dataset and get given columns\n",
    "df = pd.read_csv(\"./dataset/Webpages_Classification_test_data.csv\", sep=',',\n",
    "                 usecols=['url', 'https', 'js_len', 'js_obf_len', 'label'])\n",
    "# Sort data\n",
    "df = df.sort_values(\n",
    "    by=\"label\",\n",
    "    ascending=False\n",
    ")\n",
    "df.head()\n",
    "# Exclude invalid data rows with null values\n",
    "df_total = df[df['js_len'] != 0.0]\n",
    "\n",
    "# Divide in two subgroups by label\n",
    "df_bad = df_total[df_total['label'] == 'bad']\n",
    "df_good = df_total[df_total['label'] == 'good']\n",
    "\n",
    "# Get sample of with data_volume given above\n",
    "if get_sample_volume:\n",
    "    df_bad = df_bad.sample(n=data_volume)\n",
    "    df_good = df_good.sample(n=data_volume)\n",
    "\n",
    "# region label bad and js_len\n",
    "total_label_bad = len(df_bad) / len(df_total) * 100\n",
    "total_label_good = len(df_good) / len(df_total) * 100\n",
    "distribution_percentage_label = total_label_good, total_label_bad\n",
    "\n",
    "# region  Distribution\n",
    "print(\"Distribution dataset label (good, bad)\")\n",
    "print(\"Total label bad: \" + str(round(total_label_bad, 2)) + \"%\")\n",
    "print(\"Total label good: \" + str(round(total_label_good, 2)) + \"%\")\n",
    "\n",
    "labels = 'good', 'bad'\n",
    "colors = ['green', 'red']\n",
    "plt.pie(distribution_percentage_label, labels=labels, autopct='%1.1f%%', colors=colors)\n",
    "plt.title('Distribution dataset label (good, bad)')\n",
    "plt.axis('equal')\n",
    "plt.show()\n"
   ],
   "metadata": {
    "collapsed": false,
    "pycharm": {
     "name": "#%%\n"
    }
   }
  },
  {
   "cell_type": "markdown",
   "source": [
    "## Boxplots"
   ],
   "metadata": {
    "collapsed": false,
    "pycharm": {
     "name": "#%% md\n"
    }
   }
  },
  {
   "cell_type": "code",
   "execution_count": 23,
   "outputs": [
    {
     "name": "stdout",
     "output_type": "stream",
     "text": [
      "Boxplot Bad data:\n",
      "Mean: 584.9314809994794\n",
      "Median: 584.1\n"
     ]
    },
    {
     "data": {
      "text/plain": "<Figure size 432x288 with 1 Axes>",
      "image/png": "[encoded data removed]"
     },
     "metadata": {
      "needs_background": "light"
     },
     "output_type": "display_data"
    }
   ],
   "source": [
    "print(\"Boxplot Bad data:\")\n",
    "df_bad_js_len = df_bad['js_len']\n",
    "mean_ban_js_len = statistics.fmean(df_bad_js_len)\n",
    "median_ban_js_len = statistics.median(df_bad_js_len)\n",
    "print(\"Mean:\", mean_ban_js_len)\n",
    "print(\"Median:\", median_ban_js_len)\n",
    "\n",
    "df_bad.boxplot(column=['js_len'])\n",
    "plt.show()"
   ],
   "metadata": {
    "collapsed": false,
    "pycharm": {
     "name": "#%%\n"
    }
   }
  },
  {
   "cell_type": "code",
   "execution_count": 24,
   "outputs": [
    {
     "name": "stdout",
     "output_type": "stream",
     "text": [
      "Boxplot Good data:\n",
      "Mean: 114.66742624594305\n",
      "Median: 114.5\n"
     ]
    },
    {
     "data": {
      "text/plain": "<Figure size 432x288 with 1 Axes>",
      "image/png": "[encoded data removed]"
     },
     "metadata": {
      "needs_background": "light"
     },
     "output_type": "display_data"
    }
   ],
   "source": [
    "print(\"Boxplot Good data:\")\n",
    "df_good_js_len = df_good['js_len']\n",
    "mean_good_js_len = statistics.fmean(df_good_js_len)\n",
    "median_good_js_len = statistics.median(df_good_js_len)\n",
    "print(\"Mean:\", mean_good_js_len)\n",
    "print(\"Median:\", median_good_js_len)\n",
    "\n",
    "df_good.boxplot(column=['js_len'])\n",
    "plt.show()"
   ],
   "metadata": {
    "collapsed": false,
    "pycharm": {
     "name": "#%%\n"
    }
   }
  },
  {
   "cell_type": "markdown",
   "source": [
    "### Sample mean from both"
   ],
   "metadata": {
    "collapsed": false,
    "pycharm": {
     "name": "#%% md\n"
    }
   }
  },
  {
   "cell_type": "code",
   "execution_count": 29,
   "outputs": [
    {
     "data": {
      "text/plain": "<Figure size 432x288 with 1 Axes>",
      "image/png": "[encoded data removed]"
     },
     "metadata": {
      "needs_background": "light"
     },
     "output_type": "display_data"
    }
   ],
   "source": [
    "df_total.boxplot(column='js_len', by='label')\n",
    "plt.show()"
   ],
   "metadata": {
    "collapsed": false,
    "pycharm": {
     "name": "#%% md \n"
    }
   }
  },
  {
   "cell_type": "markdown",
   "source": [
    "### Histogram KDE\n",
    "Histogram KDE below"
   ],
   "metadata": {
    "collapsed": false,
    "pycharm": {
     "name": "#%% md\n"
    }
   }
  },
  {
   "cell_type": "code",
   "source": [
    "df_total.groupby('label')['js_len'].plot(kind='kde', legend=True)\n",
    "plt.show()"
   ],
   "metadata": {
    "collapsed": false,
    "pycharm": {
     "name": "#%%\n"
    }
   },
   "execution_count": 32,
   "outputs": [
    {
     "data": {
      "text/plain": "<Figure size 432x288 with 1 Axes>",
      "image/png": "[encoded data removed]"
     },
     "metadata": {
      "needs_background": "light"
     },
     "output_type": "display_data"
    }
   ]
  },
  {
   "cell_type": "markdown",
   "source": [
    "### Scatter Plot\n",
    "Scatter plot below"
   ],
   "metadata": {
    "collapsed": false,
    "pycharm": {
     "name": "#%% md\n"
    }
   }
  },
  {
   "cell_type": "code",
   "source": [
    "fig, ax = plt.subplots(figsize=(5, 2))\n",
    "ax.scatter(x=df_total['js_len'], y=df_total['label'])\n",
    "plt.xlabel(\"Label (Good, Bad)\")\n",
    "plt.ylabel(\"js_len\")\n"
   ],
   "metadata": {
    "collapsed": false,
    "pycharm": {
     "name": "#%%\n"
    }
   },
   "execution_count": 33,
   "outputs": [
    {
     "data": {
      "text/plain": "Text(0, 0.5, 'js_len')"
     },
     "execution_count": 33,
     "metadata": {},
     "output_type": "execute_result"
    },
    {
     "data": {
      "text/plain": "<Figure size 360x144 with 1 Axes>",
      "image/png": "[encoded data removed]"
     },
     "metadata": {
      "needs_background": "light"
     },
     "output_type": "display_data"
    }
   ]
  },
  {
   "cell_type": "markdown",
   "source": [
    "## How many are pornographic"
   ],
   "metadata": {
    "collapsed": false,
    "pycharm": {
     "name": "#%% md\n"
    }
   }
  },
  {
   "cell_type": "code",
   "source": [
    "# Filter words to identify pornographic urls\n",
    "bad_words = ['adult', 'porn', 'ass', 'tits', 'xxx', 'dildo', 'naked', 'sex', 'slave', 'naughty', 'fetish',\n",
    "                 'hardcore', 'escort', 'sluts', 'pussy', 'porno', 'eroti']\n",
    "df_bad_filtered = df_bad[~df_bad.url.str.contains('|'.join(bad_words)).groupby(level=0).any()]\n",
    "total_label_bad_porn = 100 - (len(df_bad_filtered) / len(df_bad) * 100)\n",
    "total_label_bad = len(df_bad_filtered) / len(df_bad) * 100\n",
    "distribution_percentage_label = total_label_bad_porn, total_label_bad\n",
    "\n",
    "# region  Distribution\n",
    "print(\"Distribution dataset label (bad, pornographic & bad)\")\n",
    "print(\"Total label bad but normal: \", str(round(total_label_bad, 2)))\n",
    "print(\"Total label pornographic & bad: \", str(round(total_label_bad_porn, 2)))\n",
    "\n",
    "labels = 'normal url & bad', 'pornographic url & bad'\n",
    "colors = ['red', 'orange']\n",
    "plt.pie(distribution_percentage_label, labels=labels, autopct='%1.1f%%', colors=colors)\n",
    "plt.title('Distribution dataset label (bad, bad & pornographic) url')\n",
    "plt.axis('equal')\n",
    "plt.show()"
   ],
   "metadata": {
    "collapsed": false,
    "pycharm": {
     "name": "#%%\n"
    }
   },
   "execution_count": null,
   "outputs": []
  },
  {
   "cell_type": "code",
   "execution_count": 19,
   "outputs": [
    {
     "name": "stdout",
     "output_type": "stream",
     "text": [
      "Distribution dataset label (bad, pornographic & bad)\n",
      "Total label bad but normal:  62.88\n",
      "Total label pornographic & bad:  37.12\n"
     ]
    },
    {
     "name": "stderr",
     "output_type": "stream",
     "text": [
      "C:\\Users\\rikpe\\AppData\\Local\\Temp/ipykernel_26552/3963605112.py:4: UserWarning: Boolean Series key will be reindexed to match DataFrame index.\n",
      "  df_bad_filtered = df_bad[~df_bad.url.str.contains('|'.join(bad_words)).groupby(level=0).any()]\n"
     ]
    },
    {
     "data": {
      "text/plain": "<Figure size 432x288 with 1 Axes>",
      "image/png": "[encoded data removed]"
     },
     "metadata": {},
     "output_type": "display_data"
    }
   ],
   "source": [
    "# Filter words to identify pornographic urls\n",
    "bad_words = ['adult', 'porn', 'ass', 'tits', 'xxx', 'dildo', 'naked', 'sex', 'slave', 'naughty', 'fetish',\n",
    "                 'hardcore', 'escort', 'sluts', 'pussy', 'porno', 'eroti']\n",
    "df_bad_filtered = df_bad[~df_bad.url.str.contains('|'.join(bad_words)).groupby(level=0).any()]\n",
    "total_label_bad_porn = 100 - (len(df_bad_filtered) / len(df_bad) * 100)\n",
    "total_label_bad = len(df_bad_filtered) / len(df_bad) * 100\n",
    "distribution_percentage_label = total_label_bad_porn, total_label_bad\n",
    "\n",
    "# region  Distribution\n",
    "print(\"Distribution dataset label (bad, pornographic & bad)\")\n",
    "print(\"Total label bad but normal: \", str(round(total_label_bad, 2)))\n",
    "print(\"Total label pornographic & bad: \", str(round(total_label_bad_porn, 2)))\n",
    "\n",
    "labels = 'normal url & bad', 'pornographic url & bad'\n",
    "colors = ['red', 'orange']\n",
    "plt.pie(distribution_percentage_label, labels=labels, autopct='%1.1f%%', colors=colors)\n",
    "plt.title('Distribution dataset label (bad, bad & pornographic) url')\n",
    "plt.axis('equal')\n",
    "plt.show()"
   ],
   "metadata": {
    "collapsed": false,
    "pycharm": {
     "name": "#%%\n"
    }
   }
  },
  {
   "cell_type": "code",
   "execution_count": null,
   "outputs": [],
   "source": [],
   "metadata": {
    "collapsed": false,
    "pycharm": {
     "name": "#%%\n"
    }
   }
  },
  {
   "cell_type": "code",
   "execution_count": null,
   "outputs": [],
   "source": [],
   "metadata": {
    "collapsed": false,
    "pycharm": {
     "name": "#%%"
    }
   }
  },
  {
   "cell_type": "code",
   "execution_count": null,
   "outputs": [],
   "source": [
    "fig, ax = plt.subplots(figsize=(5, 2))\n",
    "ax.scatter(x=df_total['js_len'], y=df_total['label'])\n",
    "plt.xlabel(\"Label (Good, Bad)\")\n",
    "plt.ylabel(\"js_len\")"
   ],
   "metadata": {
    "collapsed": false,
    "pycharm": {
     "name": "#%% \n"
    }
   }
  },
  {
   "cell_type": "code",
   "execution_count": null,
   "outputs": [],
   "source": [],
   "metadata": {
    "collapsed": false,
    "pycharm": {
     "name": "#%%"
    }
   }
  },
  {
   "cell_type": "code",
   "execution_count": null,
   "outputs": [],
   "source": [],
   "metadata": {
    "collapsed": false,
    "pycharm": {
     "name": "#%%"
    }
   }
  },
  {
   "cell_type": "code",
   "execution_count": null,
   "outputs": [],
   "source": [],
   "metadata": {
    "collapsed": false,
    "pycharm": {
     "name": "#%%"
    }
   }
  },
  {
   "cell_type": "code",
   "execution_count": null,
   "outputs": [],
   "source": [],
   "metadata": {
    "collapsed": false,
    "pycharm": {
     "name": "#%%"
    }
   }
  },
  {
   "cell_type": "code",
   "execution_count": null,
   "outputs": [],
   "source": [],
   "metadata": {
    "collapsed": false,
    "pycharm": {
     "name": "#%%"
    }
   }
  },
  {
   "cell_type": "code",
   "execution_count": null,
   "outputs": [],
   "source": [],
   "metadata": {
    "collapsed": false,
    "pycharm": {
     "name": "#%%\n"
    }
   }
  },
  {
   "cell_type": "code",
   "execution_count": null,
   "outputs": [],
   "source": [],
   "metadata": {
    "collapsed": false,
    "pycharm": {
     "name": "#%%"
    }
   }
  }
 ],
 "metadata": {
  "kernelspec": {
   "display_name": "Python 3",
   "language": "python",
   "name": "python3"
  },
  "language_info": {
   "codemirror_mode": {
    "name": "ipython",
    "version": 2
   },
   "file_extension": ".py",
   "mimetype": "text/x-python",
   "name": "python",
   "nbconvert_exporter": "python",
   "pygments_lexer": "ipython2",
   "version": "2.7.6"
  }
 },
 "nbformat": 4,
 "nbformat_minor": 0
}