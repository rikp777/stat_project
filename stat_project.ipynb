{
 "cells": [
  {
   "cell_type": "markdown",
   "metadata": {
    "collapsed": true,
    "pycharm": {
     "name": "#%% md\n"
    }
   },
   "source": [
    "# Inleiding\n",
    "\n",
    "Hedendaags de dag heeft iedereen wel eens last gehad van malware,\n",
    "maar hoe komt deze malware nu eigenlijk op een desbetreffende pc.\n",
    "In meest van deze gevallen komt dit door een “drive by download” attack.\n",
    "Wanneer een slachtoffer een betreffende site bezoek wordt op de achtergrond een installatie uitgevoerd zonder dat de gebruiker hier zich van bewust is.\n",
    "Tijdens dit onderzoek ga ik kijken of er een correlatie te vinden is tussen malware en een gibberish URL en of hierbij de hoeveelheid code die wordt ingeladen van invloed kan zijn.\n",
    "Uit dit onderzoek hoop ik een correlatie te vinden tussen deze domeinen.\n",
    "Ook wordt in dit onderzoek aangekaart welke Supervised machine learning algoritmes zijn toegepast om tot een gewenst resultaat te komen.\n",
    "Hierbij wordt uitgelegd waarom een bepaald algoritme een voorkeur kan hebben op een bepaalde analyse.\n",
    "Tijdens dit onderzoek maak ik gebruik van de dataset SINGH, AMIT KUMAR (2020), “Dataset of Malicious and Benign Webpages” ;\n",
    "De dataset bevat geëxtraheerde attributen van websites die kunnen worden gebruikt voor het classificeren van webpagina’s als kwaadaardig of goedaardig.\n",
    "De dataset bevat ook ruwe pagina-inhoud,\n",
    "waaronder JavaScript-code, die kan worden gebruikt als ongestructureerde gegevens in machine learning of voor het extraheren van verdere attributen(SINGH, 2020).\n",
    "Dit onderzoek heeft als doeleinde gebruikers te waarschuwen voor links die een bepaalde structuur hanteren.\n",
    "De onderzoekvraag luid dan ook als volgt: ”Is er een correlatie tussen “drive by download malware” en gibberish URL’s en/of de hoeveelheid code die de desbetreffende webpagina inlaad”.\n",
    "Tijdens dit (correlationeel) onderzoek ga ik kijken of ik een correlatie kan aantonen tussen ”drive by download”malware, ”gibberish”URL-webadres en de hoeveelheid code ook wel code-volume genoemd"
   ]
  },
  {
   "cell_type": "markdown",
   "source": [
    "# Context\n",
    "Op de dag van vandaag neemt de kans steeds groter toe dat men wel eens met malware te maken heeft gehad en in het bijzonder het ”drive by download” type.\n",
    "Een drive by download maakt gebruik van kwetsbaar heden in de browser die wordt gebruikt door een slachtoffer.\n",
    "”Drive by download” website worden maar voor een doel online gezet het infecteren van zoveel mogelijk computers die hun web URL bezoeken.\n",
    "Er zijn drie mogelijkheden om met dit type malware in aanraking te komen.\n",
    "Manier een het wel kennende fenomeen fishing waarbij een slachtoffer een mail krijg waarbij hij vervolgens wordt aangespoort om op een redirectknop te klikken waarna het slachtoffer vervolgens wordt doorgeleid naar de kwaadaardige website en wordt geïnfecteerd.\n",
    "Mogelijkheid twee is dat de gebruiker via nep reclame wordt misleid om een desbetreffende site te bezoeken meestal zijn deze sites overgenomen of gehackt en worden deze reclame site zonder dat de eigenaar het weet misbruikt voor kwaadaardige doeleinden.\n",
    "Meestal zien al deze sites er onschuldig uit.\n",
    "Manier drie misschien ontvang een desbetreffend persoon een link in een e-mail, een sms of een bericht op sociale media waarin staat dat hij of zij iets interessants op een site moet bekijken.\n",
    "Wanneer men de pagina opent, terwijl men geniet van het artikel of de cartoon, installeert de download zich op de computer (McAfee, 2012).\n",
    "Is er een correlatie tussen een malware infectie en een kwaadaardige site code-volume.\n",
    "Hierbij bedoelen we hoe veel code laat de website in.\n",
    "We weten wat een ”drive by download ̈ ıs bij definitie.\n",
    "Hierbij kunnen we concluderen dat een dit malware type voor veel onbewuste schade kan zorgen.\n",
    "In dit onderzoek wordt niet uitgelegd hoe een ”Drive by download” te werk gaat op de achtergrond en het mechanisme van dit malware type.\n",
    "De globale hypothese luid als volgt: met dit onderzoek hopen we een correlatie te vinden tussen de gedefinieerde labels."
   ],
   "metadata": {
    "collapsed": false
   }
  },
  {
   "cell_type": "markdown",
   "source": [
    "#### Gibbarish URL maakt de kans op malware aanzienlijk\n",
    "H0 - Er is geen correlatie tussen een specifiek URL opbouw en een kwaadaardig label.\n",
    "\n",
    "$$𝐻_0:{gibbarish url} \\neq kwaadaardig$$\n",
    "\n",
    "H1 - er is een correlatie tussen een specifieke URL opbouwe en een kwaadaardig label.\n",
    "\n",
    "$$𝐻_1:{gibbarish url} = kwaadaardig$$\n",
    "\n",
    "\n",
    "#### Javascript volume maakt de kans op malware aanzienlijk\n",
    "H0 - Er is geen correlatie tussen javascript volume en een kwaadaardige label.\n",
    "\n",
    "$$𝐻_0:{javascript volume} \\neq kwaadaardig$$\n",
    "\n",
    "H1 - Er is een correlatie tussen javascript volume en een kwaadaardige label.\n",
    "\n",
    "$$𝐻_1:{javascript volume} = kwaadaardig$$\n"
   ],
   "metadata": {
    "collapsed": false
   }
  },
  {
   "cell_type": "markdown",
   "source": [
    "# Hypothese testen\n",
    "Om de hypothese te testen die hierboven zijn omschreven gaan we eerst onze dataset prepareren voor analyse.\n",
    "Dit doen we door de dataset in te lezen en de benodigde labels uit de dataset te halen\n",
    "Vervolgens splitsen we de data op in twee groepen.\n",
    "Een groep met kwaadaardige web links en een groep met goedaardige web links."
   ],
   "metadata": {
    "collapsed": false
   }
  },
  {
   "cell_type": "code",
   "execution_count": 183,
   "outputs": [],
   "source": [
    "# Import libraries\n",
    "import pandas as pd\n",
    "import matplotlib.pyplot as plt"
   ],
   "metadata": {
    "collapsed": false,
    "pycharm": {
     "name": "#%%\n"
    }
   }
  },
  {
   "cell_type": "code",
   "execution_count": 184,
   "outputs": [],
   "source": [
    "# Sample size\n",
    "data_volume = 10\n",
    "get_sample_volume = False\n",
    "\n",
    "# Read dataset and get given columns\n",
    "# Download dataset: https://data.mendeley.com/datasets/gdx3pkwp47/2 | Webpages_Classification_test_data.csv.zip\n",
    "df = pd.read_csv(\"./dataset/Webpages_Classification_test_data.csv\", sep=',',\n",
    "                 usecols=['url', 'https', 'js_len', 'js_obf_len', 'label'])\n",
    "# Sort data\n",
    "df = df.sort_values(\n",
    "    by=\"label\",\n",
    "    ascending=False\n",
    ")\n",
    "df.head()\n",
    "# Exclude invalid data rows with null values\n",
    "df_total = df[df['js_len'] != 0.0]\n",
    "\n",
    "# Divide in two subgroups by label\n",
    "df_bad = df_total[df_total['label'] == 'bad']\n",
    "df_good = df_total[df_total['label'] == 'good']\n",
    "\n",
    "\n",
    "# Get sample of with data_volume given above\n",
    "if get_sample_volume:\n",
    "    df_bad = df_bad.sample(n=data_volume)\n",
    "    df_good = df_good.sample(n=data_volume)"
   ],
   "metadata": {
    "collapsed": false,
    "pycharm": {
     "name": "#%%\n"
    }
   }
  },
  {
   "cell_type": "markdown",
   "source": [
    "## Distribution"
   ],
   "metadata": {
    "collapsed": false,
    "pycharm": {
     "name": "#%% md\n"
    }
   }
  },
  {
   "cell_type": "code",
   "execution_count": 185,
   "outputs": [
    {
     "name": "stdout",
     "output_type": "stream",
     "text": [
      "Distribution dataset label (good, bad)\n",
      "Total label bad: 2.23%\n",
      "Total label good: 97.77%\n"
     ]
    },
    {
     "data": {
      "text/plain": "<Figure size 432x288 with 1 Axes>",
      "image/png": "[encoded data removed]"
     },
     "metadata": {},
     "output_type": "display_data"
    }
   ],
   "source": [
    "# region label bad and js_len\n",
    "total_label_bad = len(df_bad) / len(df_total) * 100\n",
    "total_label_good = len(df_good) / len(df_total) * 100\n",
    "distribution_percentage_label = total_label_good, total_label_bad\n",
    "\n",
    "# region  Distribution\n",
    "print(\"Distribution dataset label (good, bad)\")\n",
    "print(\"Total label bad: \" + str(round(total_label_bad, 2)) + \"%\")\n",
    "print(\"Total label good: \" + str(round(total_label_good, 2)) + \"%\")\n",
    "\n",
    "labels = 'good', 'bad'\n",
    "colors = ['green', 'red']\n",
    "plt.pie(distribution_percentage_label, labels=labels, autopct='%1.1f%%', colors=colors)\n",
    "plt.title('Distribution dataset label (good, bad)')\n",
    "plt.axis('equal')\n",
    "plt.show()"
   ],
   "metadata": {
    "collapsed": false,
    "pycharm": {
     "name": "#%%\n"
    }
   }
  },
  {
   "cell_type": "markdown",
   "source": [
    "## Boxplots\n",
    "### Boxplot Bad Data"
   ],
   "metadata": {
    "collapsed": false,
    "pycharm": {
     "name": "#%% md\n"
    }
   }
  },
  {
   "cell_type": "code",
   "execution_count": 186,
   "outputs": [
    {
     "name": "stdout",
     "output_type": "stream",
     "text": [
      "Boxplot Bad data:\n"
     ]
    },
    {
     "data": {
      "text/plain": "count    7684.000000\nmean      584.931481\nstd       156.729323\nmin       315.000000\n25%       448.200000\n50%       584.100000\n75%       721.800000\nmax       854.100000\nName: js_len, dtype: float64"
     },
     "execution_count": 186,
     "metadata": {},
     "output_type": "execute_result"
    },
    {
     "data": {
      "text/plain": "<Figure size 432x288 with 1 Axes>",
      "image/png": "[encoded data removed]"
     },
     "metadata": {
      "needs_background": "light"
     },
     "output_type": "display_data"
    }
   ],
   "source": [
    "print(\"Boxplot Bad data:\")\n",
    "df_bad.boxplot(column=['js_len'])\n",
    "df_bad['js_len'].describe()"
   ],
   "metadata": {
    "collapsed": false,
    "pycharm": {
     "name": "#%%\n"
    }
   }
  },
  {
   "cell_type": "markdown",
   "source": [
    "### Boxplot Good Data"
   ],
   "metadata": {
    "collapsed": false,
    "pycharm": {
     "name": "#%% md\n"
    }
   }
  },
  {
   "cell_type": "code",
   "execution_count": 187,
   "outputs": [
    {
     "name": "stdout",
     "output_type": "stream",
     "text": [
      "Boxplot Good data:\n"
     ]
    },
    {
     "data": {
      "text/plain": "count    336151.000000\nmean        114.667426\nstd          49.144527\nmin          30.000000\n25%          72.000000\n50%         114.500000\n75%         157.500000\nmax         199.500000\nName: js_len, dtype: float64"
     },
     "execution_count": 187,
     "metadata": {},
     "output_type": "execute_result"
    },
    {
     "data": {
      "text/plain": "<Figure size 432x288 with 1 Axes>",
      "image/png": "[encoded data removed]"
     },
     "metadata": {
      "needs_background": "light"
     },
     "output_type": "display_data"
    }
   ],
   "source": [
    "print(\"Boxplot Good data:\")\n",
    "df_good.boxplot(column=['js_len'])\n",
    "df_good['js_len'].describe()"
   ],
   "metadata": {
    "collapsed": false,
    "pycharm": {
     "name": "#%%\n"
    }
   }
  },
  {
   "cell_type": "markdown",
   "source": [
    "### Sample mean from both"
   ],
   "metadata": {
    "collapsed": false,
    "pycharm": {
     "name": "#%% md\n"
    }
   }
  },
  {
   "cell_type": "code",
   "source": [
    "df_total.boxplot(column='js_len', by='label')\n",
    "df_total.groupby('label')['js_len'].describe()"
   ],
   "metadata": {
    "collapsed": false,
    "pycharm": {
     "name": "#%%\n"
    }
   },
   "execution_count": 188,
   "outputs": [
    {
     "data": {
      "text/plain": "          count        mean         std    min    25%    50%    75%    max\nlabel                                                                     \nbad      7684.0  584.931481  156.729323  315.0  448.2  584.1  721.8  854.1\ngood   336151.0  114.667426   49.144527   30.0   72.0  114.5  157.5  199.5",
      "text/html": "<div>\n<style scoped>\n    .dataframe tbody tr th:only-of-type {\n        vertical-align: middle;\n    }\n\n    .dataframe tbody tr th {\n        vertical-align: top;\n    }\n\n    .dataframe thead th {\n        text-align: right;\n    }\n</style>\n<table border=\"1\" class=\"dataframe\">\n  <thead>\n    <tr style=\"text-align: right;\">\n      <th></th>\n      <th>count</th>\n      <th>mean</th>\n      <th>std</th>\n      <th>min</th>\n      <th>25%</th>\n      <th>50%</th>\n      <th>75%</th>\n      <th>max</th>\n    </tr>\n    <tr>\n      <th>label</th>\n      <th></th>\n      <th></th>\n      <th></th>\n      <th></th>\n      <th></th>\n      <th></th>\n      <th></th>\n      <th></th>\n    </tr>\n  </thead>\n  <tbody>\n    <tr>\n      <th>bad</th>\n      <td>7684.0</td>\n      <td>584.931481</td>\n      <td>156.729323</td>\n      <td>315.0</td>\n      <td>448.2</td>\n      <td>584.1</td>\n      <td>721.8</td>\n      <td>854.1</td>\n    </tr>\n    <tr>\n      <th>good</th>\n      <td>336151.0</td>\n      <td>114.667426</td>\n      <td>49.144527</td>\n      <td>30.0</td>\n      <td>72.0</td>\n      <td>114.5</td>\n      <td>157.5</td>\n      <td>199.5</td>\n    </tr>\n  </tbody>\n</table>\n</div>"
     },
     "execution_count": 188,
     "metadata": {},
     "output_type": "execute_result"
    },
    {
     "data": {
      "text/plain": "<Figure size 432x288 with 1 Axes>",
      "image/png": "[encoded data removed]"
     },
     "metadata": {
      "needs_background": "light"
     },
     "output_type": "display_data"
    }
   ]
  },
  {
   "cell_type": "markdown",
   "source": [
    "### Histogram KDE\n",
    "Histogram KDE below"
   ],
   "metadata": {
    "collapsed": false,
    "pycharm": {
     "name": "#%% md\n"
    }
   }
  },
  {
   "cell_type": "code",
   "source": [
    "df_total.groupby('label')['js_len'].plot(kind='kde', legend=True)\n"
   ],
   "metadata": {
    "collapsed": false,
    "pycharm": {
     "name": "#%%\n"
    }
   },
   "execution_count": 189,
   "outputs": [
    {
     "data": {
      "text/plain": "label\nbad     AxesSubplot(0.125,0.125;0.775x0.755)\ngood    AxesSubplot(0.125,0.125;0.775x0.755)\nName: js_len, dtype: object"
     },
     "execution_count": 189,
     "metadata": {},
     "output_type": "execute_result"
    },
    {
     "data": {
      "text/plain": "<Figure size 432x288 with 1 Axes>",
      "image/png": "[encoded data removed]"
     },
     "metadata": {
      "needs_background": "light"
     },
     "output_type": "display_data"
    }
   ]
  },
  {
   "cell_type": "markdown",
   "source": [
    "### Scatter Plot\n",
    "Scatter plot below"
   ],
   "metadata": {
    "collapsed": false,
    "pycharm": {
     "name": "#%% md\n"
    }
   }
  },
  {
   "cell_type": "code",
   "source": [
    "fig, ax = plt.subplots(figsize=(5, 2))\n",
    "ax.scatter(x=df_total['js_len'], y=df_total['label'])\n",
    "plt.xlabel(\"Label (Good, Bad)\")\n",
    "plt.ylabel(\"js_len\")\n"
   ],
   "metadata": {
    "collapsed": false,
    "pycharm": {
     "name": "#%%\n"
    }
   },
   "execution_count": 190,
   "outputs": [
    {
     "data": {
      "text/plain": "Text(0, 0.5, 'js_len')"
     },
     "execution_count": 190,
     "metadata": {},
     "output_type": "execute_result"
    },
    {
     "data": {
      "text/plain": "<Figure size 360x144 with 1 Axes>",
      "image/png": "[encoded data removed]"
     },
     "metadata": {
      "needs_background": "light"
     },
     "output_type": "display_data"
    }
   ]
  },
  {
   "cell_type": "markdown",
   "source": [
    "## How many are pornographic"
   ],
   "metadata": {
    "collapsed": false,
    "pycharm": {
     "name": "#%% md\n"
    }
   }
  },
  {
   "cell_type": "code",
   "execution_count": 194,
   "outputs": [
    {
     "name": "stdout",
     "output_type": "stream",
     "text": [
      "Distribution dataset label (bad, pornographic & bad)\n",
      "Total label bad but normal:  62.88\n",
      "Total label pornographic & bad:  37.12\n"
     ]
    },
    {
     "name": "stderr",
     "output_type": "stream",
     "text": [
      "C:\\Users\\rikpe\\AppData\\Local\\Temp/ipykernel_12956/3246560218.py:4: UserWarning: Boolean Series key will be reindexed to match DataFrame index.\n",
      "  df_bad_filtered = df_bad[~df_bad.url.str.contains('|'.join(bad_words)).groupby(level=0).any()]\n"
     ]
    },
    {
     "data": {
      "text/plain": "<Figure size 432x288 with 1 Axes>",
      "image/png": "[encoded data removed]"
     },
     "metadata": {},
     "output_type": "display_data"
    }
   ],
   "source": [
    "# Filter words to identify pornographic urls\n",
    "bad_words = ['adult', 'porn', 'ass', 'tits', 'xxx', 'dildo', 'naked', 'sex', 'slave', 'naughty', 'fetish',\n",
    "                 'hardcore', 'escort', 'sluts', 'pussy', 'porno', 'eroti']\n",
    "df_bad_filtered = df_bad[~df_bad.url.str.contains('|'.join(bad_words)).groupby(level=0).any()]\n",
    "total_label_bad_porn = 100 - (len(df_bad_filtered) / len(df_bad) * 100)\n",
    "total_label_bad = len(df_bad_filtered) / len(df_bad) * 100\n",
    "distribution_percentage_label_bad = total_label_bad, total_label_bad_porn\n",
    "\n",
    "# region  Distribution\n",
    "print(\"Distribution dataset label (bad, pornographic & bad)\")\n",
    "print(\"Total label bad but normal: \", str(round(total_label_bad, 2)))\n",
    "print(\"Total label pornographic & bad: \", str(round(total_label_bad_porn, 2)))\n",
    "\n",
    "labels = 'normal url & bad', 'pornographic url & bad'\n",
    "colors = ['orange', 'red']\n",
    "plt.pie(distribution_percentage_label_bad, labels=labels, autopct='%1.1f%%', colors=colors)\n",
    "plt.title('Distribution dataset label (bad, bad & pornographic) url')\n",
    "plt.axis('equal')\n",
    "plt.show()"
   ],
   "metadata": {
    "collapsed": false,
    "pycharm": {
     "name": "#%%\n"
    }
   }
  },
  {
   "cell_type": "code",
   "execution_count": 193,
   "outputs": [
    {
     "name": "stdout",
     "output_type": "stream",
     "text": [
      "Distribution dataset label (bad, pornographic & bad)\n",
      "Total label good and normal:  98.64\n",
      "Total label pornographic & good:  1.36\n"
     ]
    },
    {
     "name": "stderr",
     "output_type": "stream",
     "text": [
      "C:\\Users\\rikpe\\AppData\\Local\\Temp/ipykernel_12956/1738625943.py:1: UserWarning: Boolean Series key will be reindexed to match DataFrame index.\n",
      "  df_good_filtered = df_good[~df_good.url.str.contains('|'.join(bad_words)).groupby(level=0).any()]\n"
     ]
    },
    {
     "data": {
      "text/plain": "(-1.1048600354363798,\n 1.1002314327096285,\n -1.10669209574357,\n 1.1029840190333258)"
     },
     "execution_count": 193,
     "metadata": {},
     "output_type": "execute_result"
    },
    {
     "data": {
      "text/plain": "<Figure size 432x288 with 1 Axes>",
      "image/png": "[encoded data removed]"
     },
     "metadata": {},
     "output_type": "display_data"
    }
   ],
   "source": [
    "df_good_filtered = df_good[~df_good.url.str.contains('|'.join(bad_words)).groupby(level=0).any()]\n",
    "total_label_good_porn = 100 - (len(df_good_filtered) / len(df_good) * 100)\n",
    "total_label_good = len(df_good_filtered) / len(df_good) *100\n",
    "distribution_percentage_label_good = total_label_good, total_label_good_porn,\n",
    "\n",
    "# region  Distribution\n",
    "print(\"Distribution dataset label (bad, pornographic & bad)\")\n",
    "print(\"Total label good and normal: \", str(round(total_label_good, 2)))\n",
    "print(\"Total label pornographic & good: \", str(round(total_label_good_porn, 2)))\n",
    "\n",
    "labels = 'normal url & good', 'pornographic url & good'\n",
    "colors = ['orange', 'red']\n",
    "plt.pie(distribution_percentage_label_good, labels=labels, autopct='%1.1f%%', colors=colors)\n",
    "plt.title('Distribution dataset label (good, good & pornographic) url')\n",
    "plt.axis('equal')"
   ],
   "metadata": {
    "collapsed": false,
    "pycharm": {
     "name": "#%%\n"
    }
   }
  },
  {
   "cell_type": "code",
   "execution_count": 199,
   "outputs": [
    {
     "ename": "ValueError",
     "evalue": "Usecols do not match columns, columns expected but not found: ['Response, Label']",
     "output_type": "error",
     "traceback": [
      "\u001B[1;31m---------------------------------------------------------------------------\u001B[0m",
      "\u001B[1;31mValueError\u001B[0m                                Traceback (most recent call last)",
      "\u001B[1;32m~\\AppData\\Local\\Temp/ipykernel_12956/178558012.py\u001B[0m in \u001B[0;36m<module>\u001B[1;34m\u001B[0m\n\u001B[1;32m----> 1\u001B[1;33m \u001B[0mdf_gibberish\u001B[0m \u001B[1;33m=\u001B[0m \u001B[0mpd\u001B[0m\u001B[1;33m.\u001B[0m\u001B[0mread_csv\u001B[0m\u001B[1;33m(\u001B[0m\u001B[1;34m\"./dataset/Gibberish.csv\"\u001B[0m\u001B[1;33m,\u001B[0m \u001B[0msep\u001B[0m\u001B[1;33m=\u001B[0m\u001B[1;34m','\u001B[0m\u001B[1;33m,\u001B[0m\u001B[0musecols\u001B[0m\u001B[1;33m=\u001B[0m\u001B[1;33m[\u001B[0m\u001B[1;34m'Response, Label'\u001B[0m\u001B[1;33m]\u001B[0m\u001B[1;33m)\u001B[0m\u001B[1;33m\u001B[0m\u001B[1;33m\u001B[0m\u001B[0m\n\u001B[0m\u001B[0;32m      2\u001B[0m \u001B[1;33m\u001B[0m\u001B[0m\n\u001B[0;32m      3\u001B[0m \u001B[1;32mfrom\u001B[0m \u001B[0msklearn\u001B[0m\u001B[1;33m.\u001B[0m\u001B[0mmodel_selection\u001B[0m \u001B[1;32mimport\u001B[0m \u001B[0mtrain_test_split\u001B[0m\u001B[1;33m\u001B[0m\u001B[1;33m\u001B[0m\u001B[0m\n\u001B[0;32m      4\u001B[0m \u001B[0mX_train\u001B[0m\u001B[1;33m,\u001B[0m \u001B[0mX_test\u001B[0m\u001B[1;33m,\u001B[0m \u001B[0mY_train\u001B[0m\u001B[1;33m,\u001B[0m \u001B[0mY_test\u001B[0m\u001B[1;33m,\u001B[0m \u001B[1;33m=\u001B[0m \u001B[0mtrain_test_split\u001B[0m\u001B[1;33m(\u001B[0m\u001B[0mdf_gibberish\u001B[0m\u001B[1;33m[\u001B[0m\u001B[1;34m'Response'\u001B[0m\u001B[1;33m]\u001B[0m\u001B[1;33m,\u001B[0m \u001B[0mdf_gibberish\u001B[0m\u001B[1;33m[\u001B[0m\u001B[1;34m'Label'\u001B[0m\u001B[1;33m]\u001B[0m\u001B[1;33m,\u001B[0m \u001B[0mtest_size\u001B[0m\u001B[1;33m=\u001B[0m\u001B[1;36m0.25\u001B[0m\u001B[1;33m)\u001B[0m\u001B[1;33m\u001B[0m\u001B[1;33m\u001B[0m\u001B[0m\n\u001B[0;32m      5\u001B[0m \u001B[1;33m\u001B[0m\u001B[0m\n",
      "\u001B[1;32mC:\\Python39\\lib\\site-packages\\pandas\\util\\_decorators.py\u001B[0m in \u001B[0;36mwrapper\u001B[1;34m(*args, **kwargs)\u001B[0m\n\u001B[0;32m    309\u001B[0m                     \u001B[0mstacklevel\u001B[0m\u001B[1;33m=\u001B[0m\u001B[0mstacklevel\u001B[0m\u001B[1;33m,\u001B[0m\u001B[1;33m\u001B[0m\u001B[1;33m\u001B[0m\u001B[0m\n\u001B[0;32m    310\u001B[0m                 )\n\u001B[1;32m--> 311\u001B[1;33m             \u001B[1;32mreturn\u001B[0m \u001B[0mfunc\u001B[0m\u001B[1;33m(\u001B[0m\u001B[1;33m*\u001B[0m\u001B[0margs\u001B[0m\u001B[1;33m,\u001B[0m \u001B[1;33m**\u001B[0m\u001B[0mkwargs\u001B[0m\u001B[1;33m)\u001B[0m\u001B[1;33m\u001B[0m\u001B[1;33m\u001B[0m\u001B[0m\n\u001B[0m\u001B[0;32m    312\u001B[0m \u001B[1;33m\u001B[0m\u001B[0m\n\u001B[0;32m    313\u001B[0m         \u001B[1;32mreturn\u001B[0m \u001B[0mwrapper\u001B[0m\u001B[1;33m\u001B[0m\u001B[1;33m\u001B[0m\u001B[0m\n",
      "\u001B[1;32mC:\\Python39\\lib\\site-packages\\pandas\\io\\parsers\\readers.py\u001B[0m in \u001B[0;36mread_csv\u001B[1;34m(filepath_or_buffer, sep, delimiter, header, names, index_col, usecols, squeeze, prefix, mangle_dupe_cols, dtype, engine, converters, true_values, false_values, skipinitialspace, skiprows, skipfooter, nrows, na_values, keep_default_na, na_filter, verbose, skip_blank_lines, parse_dates, infer_datetime_format, keep_date_col, date_parser, dayfirst, cache_dates, iterator, chunksize, compression, thousands, decimal, lineterminator, quotechar, quoting, doublequote, escapechar, comment, encoding, encoding_errors, dialect, error_bad_lines, warn_bad_lines, on_bad_lines, delim_whitespace, low_memory, memory_map, float_precision, storage_options)\u001B[0m\n\u001B[0;32m    584\u001B[0m     \u001B[0mkwds\u001B[0m\u001B[1;33m.\u001B[0m\u001B[0mupdate\u001B[0m\u001B[1;33m(\u001B[0m\u001B[0mkwds_defaults\u001B[0m\u001B[1;33m)\u001B[0m\u001B[1;33m\u001B[0m\u001B[1;33m\u001B[0m\u001B[0m\n\u001B[0;32m    585\u001B[0m \u001B[1;33m\u001B[0m\u001B[0m\n\u001B[1;32m--> 586\u001B[1;33m     \u001B[1;32mreturn\u001B[0m \u001B[0m_read\u001B[0m\u001B[1;33m(\u001B[0m\u001B[0mfilepath_or_buffer\u001B[0m\u001B[1;33m,\u001B[0m \u001B[0mkwds\u001B[0m\u001B[1;33m)\u001B[0m\u001B[1;33m\u001B[0m\u001B[1;33m\u001B[0m\u001B[0m\n\u001B[0m\u001B[0;32m    587\u001B[0m \u001B[1;33m\u001B[0m\u001B[0m\n\u001B[0;32m    588\u001B[0m \u001B[1;33m\u001B[0m\u001B[0m\n",
      "\u001B[1;32mC:\\Python39\\lib\\site-packages\\pandas\\io\\parsers\\readers.py\u001B[0m in \u001B[0;36m_read\u001B[1;34m(filepath_or_buffer, kwds)\u001B[0m\n\u001B[0;32m    480\u001B[0m \u001B[1;33m\u001B[0m\u001B[0m\n\u001B[0;32m    481\u001B[0m     \u001B[1;31m# Create the parser.\u001B[0m\u001B[1;33m\u001B[0m\u001B[1;33m\u001B[0m\u001B[1;33m\u001B[0m\u001B[0m\n\u001B[1;32m--> 482\u001B[1;33m     \u001B[0mparser\u001B[0m \u001B[1;33m=\u001B[0m \u001B[0mTextFileReader\u001B[0m\u001B[1;33m(\u001B[0m\u001B[0mfilepath_or_buffer\u001B[0m\u001B[1;33m,\u001B[0m \u001B[1;33m**\u001B[0m\u001B[0mkwds\u001B[0m\u001B[1;33m)\u001B[0m\u001B[1;33m\u001B[0m\u001B[1;33m\u001B[0m\u001B[0m\n\u001B[0m\u001B[0;32m    483\u001B[0m \u001B[1;33m\u001B[0m\u001B[0m\n\u001B[0;32m    484\u001B[0m     \u001B[1;32mif\u001B[0m \u001B[0mchunksize\u001B[0m \u001B[1;32mor\u001B[0m \u001B[0miterator\u001B[0m\u001B[1;33m:\u001B[0m\u001B[1;33m\u001B[0m\u001B[1;33m\u001B[0m\u001B[0m\n",
      "\u001B[1;32mC:\\Python39\\lib\\site-packages\\pandas\\io\\parsers\\readers.py\u001B[0m in \u001B[0;36m__init__\u001B[1;34m(self, f, engine, **kwds)\u001B[0m\n\u001B[0;32m    809\u001B[0m             \u001B[0mself\u001B[0m\u001B[1;33m.\u001B[0m\u001B[0moptions\u001B[0m\u001B[1;33m[\u001B[0m\u001B[1;34m\"has_index_names\"\u001B[0m\u001B[1;33m]\u001B[0m \u001B[1;33m=\u001B[0m \u001B[0mkwds\u001B[0m\u001B[1;33m[\u001B[0m\u001B[1;34m\"has_index_names\"\u001B[0m\u001B[1;33m]\u001B[0m\u001B[1;33m\u001B[0m\u001B[1;33m\u001B[0m\u001B[0m\n\u001B[0;32m    810\u001B[0m \u001B[1;33m\u001B[0m\u001B[0m\n\u001B[1;32m--> 811\u001B[1;33m         \u001B[0mself\u001B[0m\u001B[1;33m.\u001B[0m\u001B[0m_engine\u001B[0m \u001B[1;33m=\u001B[0m \u001B[0mself\u001B[0m\u001B[1;33m.\u001B[0m\u001B[0m_make_engine\u001B[0m\u001B[1;33m(\u001B[0m\u001B[0mself\u001B[0m\u001B[1;33m.\u001B[0m\u001B[0mengine\u001B[0m\u001B[1;33m)\u001B[0m\u001B[1;33m\u001B[0m\u001B[1;33m\u001B[0m\u001B[0m\n\u001B[0m\u001B[0;32m    812\u001B[0m \u001B[1;33m\u001B[0m\u001B[0m\n\u001B[0;32m    813\u001B[0m     \u001B[1;32mdef\u001B[0m \u001B[0mclose\u001B[0m\u001B[1;33m(\u001B[0m\u001B[0mself\u001B[0m\u001B[1;33m)\u001B[0m\u001B[1;33m:\u001B[0m\u001B[1;33m\u001B[0m\u001B[1;33m\u001B[0m\u001B[0m\n",
      "\u001B[1;32mC:\\Python39\\lib\\site-packages\\pandas\\io\\parsers\\readers.py\u001B[0m in \u001B[0;36m_make_engine\u001B[1;34m(self, engine)\u001B[0m\n\u001B[0;32m   1038\u001B[0m             )\n\u001B[0;32m   1039\u001B[0m         \u001B[1;31m# error: Too many arguments for \"ParserBase\"\u001B[0m\u001B[1;33m\u001B[0m\u001B[1;33m\u001B[0m\u001B[1;33m\u001B[0m\u001B[0m\n\u001B[1;32m-> 1040\u001B[1;33m         \u001B[1;32mreturn\u001B[0m \u001B[0mmapping\u001B[0m\u001B[1;33m[\u001B[0m\u001B[0mengine\u001B[0m\u001B[1;33m]\u001B[0m\u001B[1;33m(\u001B[0m\u001B[0mself\u001B[0m\u001B[1;33m.\u001B[0m\u001B[0mf\u001B[0m\u001B[1;33m,\u001B[0m \u001B[1;33m**\u001B[0m\u001B[0mself\u001B[0m\u001B[1;33m.\u001B[0m\u001B[0moptions\u001B[0m\u001B[1;33m)\u001B[0m  \u001B[1;31m# type: ignore[call-arg]\u001B[0m\u001B[1;33m\u001B[0m\u001B[1;33m\u001B[0m\u001B[0m\n\u001B[0m\u001B[0;32m   1041\u001B[0m \u001B[1;33m\u001B[0m\u001B[0m\n\u001B[0;32m   1042\u001B[0m     \u001B[1;32mdef\u001B[0m \u001B[0m_failover_to_python\u001B[0m\u001B[1;33m(\u001B[0m\u001B[0mself\u001B[0m\u001B[1;33m)\u001B[0m\u001B[1;33m:\u001B[0m\u001B[1;33m\u001B[0m\u001B[1;33m\u001B[0m\u001B[0m\n",
      "\u001B[1;32mC:\\Python39\\lib\\site-packages\\pandas\\io\\parsers\\c_parser_wrapper.py\u001B[0m in \u001B[0;36m__init__\u001B[1;34m(self, src, **kwds)\u001B[0m\n\u001B[0;32m    133\u001B[0m                 \u001B[0mself\u001B[0m\u001B[1;33m.\u001B[0m\u001B[0morig_names\u001B[0m\u001B[1;33m\u001B[0m\u001B[1;33m\u001B[0m\u001B[0m\n\u001B[0;32m    134\u001B[0m             ):\n\u001B[1;32m--> 135\u001B[1;33m                 \u001B[0mself\u001B[0m\u001B[1;33m.\u001B[0m\u001B[0m_validate_usecols_names\u001B[0m\u001B[1;33m(\u001B[0m\u001B[0musecols\u001B[0m\u001B[1;33m,\u001B[0m \u001B[0mself\u001B[0m\u001B[1;33m.\u001B[0m\u001B[0morig_names\u001B[0m\u001B[1;33m)\u001B[0m\u001B[1;33m\u001B[0m\u001B[1;33m\u001B[0m\u001B[0m\n\u001B[0m\u001B[0;32m    136\u001B[0m \u001B[1;33m\u001B[0m\u001B[0m\n\u001B[0;32m    137\u001B[0m             \u001B[1;31m# error: Cannot determine type of 'names'\u001B[0m\u001B[1;33m\u001B[0m\u001B[1;33m\u001B[0m\u001B[1;33m\u001B[0m\u001B[0m\n",
      "\u001B[1;32mC:\\Python39\\lib\\site-packages\\pandas\\io\\parsers\\base_parser.py\u001B[0m in \u001B[0;36m_validate_usecols_names\u001B[1;34m(self, usecols, names)\u001B[0m\n\u001B[0;32m    864\u001B[0m         \u001B[0mmissing\u001B[0m \u001B[1;33m=\u001B[0m \u001B[1;33m[\u001B[0m\u001B[0mc\u001B[0m \u001B[1;32mfor\u001B[0m \u001B[0mc\u001B[0m \u001B[1;32min\u001B[0m \u001B[0musecols\u001B[0m \u001B[1;32mif\u001B[0m \u001B[0mc\u001B[0m \u001B[1;32mnot\u001B[0m \u001B[1;32min\u001B[0m \u001B[0mnames\u001B[0m\u001B[1;33m]\u001B[0m\u001B[1;33m\u001B[0m\u001B[1;33m\u001B[0m\u001B[0m\n\u001B[0;32m    865\u001B[0m         \u001B[1;32mif\u001B[0m \u001B[0mlen\u001B[0m\u001B[1;33m(\u001B[0m\u001B[0mmissing\u001B[0m\u001B[1;33m)\u001B[0m \u001B[1;33m>\u001B[0m \u001B[1;36m0\u001B[0m\u001B[1;33m:\u001B[0m\u001B[1;33m\u001B[0m\u001B[1;33m\u001B[0m\u001B[0m\n\u001B[1;32m--> 866\u001B[1;33m             raise ValueError(\n\u001B[0m\u001B[0;32m    867\u001B[0m                 \u001B[1;34mf\"Usecols do not match columns, columns expected but not found: \"\u001B[0m\u001B[1;33m\u001B[0m\u001B[1;33m\u001B[0m\u001B[0m\n\u001B[0;32m    868\u001B[0m                 \u001B[1;34mf\"{missing}\"\u001B[0m\u001B[1;33m\u001B[0m\u001B[1;33m\u001B[0m\u001B[0m\n",
      "\u001B[1;31mValueError\u001B[0m: Usecols do not match columns, columns expected but not found: ['Response, Label']"
     ]
    }
   ],
   "source": [
    "df_gibberish = pd.read_csv(\"./dataset/Gibberish.csv\", sep=',',usecols=['Response, Label'])\n",
    "\n",
    "from sklearn.model_selection import train_test_split\n",
    "X_train, X_test, Y_train, Y_test, = train_test_split(df_gibberish['Response'], df_gibberish['Label'], test_size=0.25)\n"
   ],
   "metadata": {
    "collapsed": false,
    "pycharm": {
     "name": "#%%\n"
    }
   }
  }
 ],
 "metadata": {
  "kernelspec": {
   "display_name": "Python 3",
   "language": "python",
   "name": "python3"
  },
  "language_info": {
   "codemirror_mode": {
    "name": "ipython",
    "version": 2
   },
   "file_extension": ".py",
   "mimetype": "text/x-python",
   "name": "python",
   "nbconvert_exporter": "python",
   "pygments_lexer": "ipython2",
   "version": "2.7.6"
  }
 },
 "nbformat": 4,
 "nbformat_minor": 0
}